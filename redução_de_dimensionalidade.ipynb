{
  "nbformat": 4,
  "nbformat_minor": 0,
  "metadata": {
    "colab": {
      "provenance": [],
      "authorship_tag": "ABX9TyNn5rKzWw97Zp9mbTSpGgxl",
      "include_colab_link": true
    },
    "kernelspec": {
      "name": "python3",
      "display_name": "Python 3"
    },
    "language_info": {
      "name": "python"
    }
  },
  "cells": [
    {
      "cell_type": "markdown",
      "metadata": {
        "id": "view-in-github",
        "colab_type": "text"
      },
      "source": [
        "<a href=\"https://colab.research.google.com/github/BrunoBerval/dio_project2/blob/main/redu%C3%A7%C3%A3o_de_dimensionalidade.ipynb\" target=\"_parent\"><img src=\"https://colab.research.google.com/assets/colab-badge.svg\" alt=\"Open In Colab\"/></a>"
      ]
    },
    {
      "cell_type": "markdown",
      "source": [
        "#Redução de Dimensionalidade em Imagens para Redes Neurais\n",
        "\n",
        "Este código realiza um processo de conversão de imagens em três etapas: a primeira converte uma imagem colorida para tons de cinza, e a segunda converte a imagem em tons de cinza para uma imagem binária, que consiste apenas de pixels pretos e brancos. O objetivo é fornecer uma forma simples e eficiente de transformar uma imagem original em diferentes representações, que podem ser úteis em diversas aplicações, como processamento de imagens e visão computacional.\n",
        "\n",
        "Passos do processo:\n",
        "Conversão de imagem colorida para tons de cinza: A imagem colorida é transformada em uma versão de escala de cinza, onde a intensidade de cada pixel é ajustada para representar um tom de cinza.\n",
        "Conversão de imagem em tons de cinza para binária: A imagem em tons de cinza é então convertida para uma imagem binária, onde os pixels são classificados como preto ou branco com base em um limiar de intensidade.\n",
        "O código é composto por funções específicas para cada etapa, facilitando o processamento e a personalização do fluxo de conversão para diferentes tipos de entrada e saída de imagens. O resultado final são duas imagens salvas: uma em tons de cinza e outra em formato binário.\n",
        "\n",
        "Para realizar a tarefa utilizaremos a biblioteca PIL: A Python Imaging Library que é uma biblioteca que fornece várias funcionalidades para abrir, manipular e salvar imagens em diferentes formatos (como JPEG, PNG, TIFF, entre outros). Embora o PIL original não seja mais mantido, foi substituído pela biblioteca Pillow, que é uma versão aprimorada e mais atualizada, é suficiente para a tarefa em questão.\n",
        "\n",
        "\n",
        "\n",
        "---\n",
        "##Dimensionality Reduction in Images for Neural Networks\n",
        "\n",
        "This code performs a three-step image conversion process: the first step converts a colored image to grayscale, and the second converts the grayscale image to a binary image, which consists of only black and white pixels. The goal is to provide a simple and efficient way to transform an original image into different representations, which can be useful in various applications, such as image processing and computer vision.\n",
        "\n",
        "Process steps:\n",
        "Color image to grayscale conversion: The colored image is transformed into a grayscale version, where the intensity of each pixel is adjusted to represent a shade of gray.\n",
        "Grayscale to binary image conversion: The grayscale image is then converted into a binary image, where the pixels are classified as black or white based on an intensity threshold.\n",
        "The code consists of specific functions for each step, making it easier to process and customize the conversion flow for different types of image input and output. The final result is two saved images: one in grayscale and another in binary format.\n",
        "\n",
        "To perform the task, we will use the PIL library: The Python Imaging Library, which provides several functionalities to open, manipulate, and save images in various formats (such as JPEG, PNG, TIFF, among others). Although the original PIL is no longer maintained, it has been replaced by the Pillow library, an enhanced and more up-to-date version, which is sufficient for the task at hand."
      ],
      "metadata": {
        "id": "WtMEO_aZkvY9"
      }
    },
    {
      "cell_type": "markdown",
      "source": [
        "Image é um módulo dentro da PIL (ou Pillow) que permite trabalhar com imagens, como abrir, criar, editar e salvar arquivos de imagem.\n",
        "\n",
        "\n",
        "---\n",
        "Image is a module within PIL (or Pillow) that allows you to work with images, such as opening, creating, editing and saving image files.\n"
      ],
      "metadata": {
        "id": "7jqjMtaPEkm9"
      }
    },
    {
      "cell_type": "code",
      "execution_count": null,
      "metadata": {
        "id": "ofGc2hm_kucL"
      },
      "outputs": [],
      "source": [
        "from PIL import Image"
      ]
    },
    {
      "cell_type": "markdown",
      "source": [
        "###RGB para Tons de cinza\n",
        "\n",
        "A função começa abrindo a imagem colorida a partir do caminho fornecido (image_path).\n",
        "Uma nova imagem em tons de cinza é criada, com as mesmas dimensões (largura e altura) da imagem original.\n",
        "\n",
        "O modo \"L\" é um formato de imagem definido pela biblioteca Pillow (PIL) para representar imagens em tons de cinza.\n",
        "\n",
        "A letra \"L\" significa Luminância.\n",
        "Cada pixel da imagem no modo \"L\" é representado por um único valor de 8 bits (0 a 255).\n",
        "0: Preto (ausência de luz).\n",
        "255: Branco (luz total).\n",
        "Valores intermediários (1 a 254) representam diferentes intensidades de cinza.\n",
        "Esse modo é utilizado para armazenar imagens onde não há necessidade de cor, apenas variações de intensidade de luz.\n",
        "Por exemplo, ao converter uma imagem colorida (RGB) para o modo \"L\", cada pixel do RGB é transformado em um valor de intensidade de cinza baseado em uma fórmula ponderada.\n",
        "\n",
        "RGB: Cada pixel tem 3 valores (Red, Green, Blue).\n",
        "L: Cada pixel tem 1 valor (tons de cinza).\n",
        "1: Cada pixel é binário (0 ou 1, representando preto ou branco).\n",
        "\n",
        "Uma imagem em tons de cinza no modo \"L\" ocupa menos espaço na memória em comparação com uma imagem RGB porque só precisa armazenar um canal (luminosidade) em vez de três (R, G, B).\n",
        "\n",
        "A função percorre todos os pixels da imagem original, e para cada pixel (x, y), ele obtém os valores de cor RGB (vermelho, verde, azul) usando getpixel.\n",
        "\n",
        "Após isso, uma fórmula de conversão para tons de cinza é aplicada, onde cada cor é ponderada de forma diferente: o vermelho (r) tem um peso de 0.299, o verde (g) tem 0.587, e o azul (b) tem 0.114. Isso cria um valor de intensidade de cinza. Os valores são armazenados na nova imagem e são salvos.\n",
        "\n",
        "\n",
        "\n",
        "---\n",
        "###RGB to Grayscale\n",
        "\n",
        "The function starts by opening the color image from the path provided (image_path).\n",
        "\n",
        "A new grayscale image is created, with the same dimensions (width and height) as the original image.\n",
        "\n",
        "The \"L\" mode is an image format defined by the Pillow library (PIL) to represent grayscale images.\n",
        "\n",
        "The letter \"L\" stands for Luminance.\n",
        "\n",
        "Each pixel in the image in \"L\" mode is represented by a single 8-bit value (0 to 255).\n",
        "\n",
        "0: Black (no light).\n",
        "\n",
        "255: White (full light).\n",
        "\n",
        "Intermediate values ​​(1 to 254) represent different intensities of gray.\n",
        "\n",
        "This mode is used to store images where there is no need for color, only variations in light intensity.\n",
        "\n",
        "For example, when converting a color image (RGB) to \"L\" mode, each RGB pixel is transformed into a gray intensity value based on a weighted formula.\n",
        "\n",
        "RGB: Each pixel has 3 values ​​(Red, Green, Blue).\n",
        "\n",
        "L: Each pixel has 1 value (shade of gray).\n",
        "\n",
        "1: Each pixel is binary (0 or 1, representing black or white).\n",
        "\n",
        "A grayscale image in \"L\" mode takes up less memory space compared to an RGB image because it only needs to store one channel (luminosity) instead of three (R, G, B).\n",
        "\n",
        "The function loops through all the pixels in the original image, and for each pixel (x, y), it gets the RGB color values ​​(red, green, blue) using getpixel.\n",
        "\n",
        "After that, a grayscale conversion formula is applied, where each color is weighted differently: red (r) has a weight of 0.299, green (g) has 0.587, and blue (b) has 0.114. This creates a grayscale value. The values ​​are stored in the new image and saved.\n"
      ],
      "metadata": {
        "id": "8Lnqgt4glg2a"
      }
    },
    {
      "cell_type": "code",
      "source": [
        "# Função para converter uma imagem colorida em tons de cinza\n",
        "def color_to_grayscale(image_path, output_path_grayscale):\n",
        "    # Abrindo a imagem\n",
        "    image = Image.open(image_path)\n",
        "    width, height = image.size\n",
        "    grayscale_image = Image.new(\"L\", (width, height))  # Criar imagem em tons de cinza\n",
        "\n",
        "    for x in range(width):\n",
        "        for y in range(height):\n",
        "            r, g, b = image.getpixel((x, y))[:3]  # Extrair os canais R, G e B\n",
        "            # Fórmula para tons de cinza\n",
        "            gray = int(0.299 * r + 0.587 * g + 0.114 * b)\n",
        "            grayscale_image.putpixel((x, y), gray)  # Adicionar o tom de cinza na nova imagem\n",
        "\n",
        "    # Salvar a imagem em tons de cinza\n",
        "    grayscale_image.save(output_path_grayscale)\n",
        "    print(f\"Imagem convertida para tons de cinza: {output_path_grayscale}\")\n",
        "    return grayscale_image"
      ],
      "metadata": {
        "id": "5eHGGnwOlhbE"
      },
      "execution_count": null,
      "outputs": []
    },
    {
      "cell_type": "markdown",
      "source": [
        "###Tons de cinza para binário\n",
        "\n",
        "A função recebe três parâmetros:\n",
        "\n",
        "grayscale_image: a imagem em tons de cinza a ser convertida.\n",
        "output_path_binary: o caminho onde a imagem binária será salva.\n",
        "threshold: um valor limiar (default 128) usado para decidir se um pixel será branco (255) ou preto (0).\n",
        "\n",
        "O código percorre cada pixel da imagem em tons de cinza, onde getpixel((x, y)) obtém o valor de intensidade de cinza do pixel na posição (x, y).\n",
        "\n",
        "Após isso é feita a conversão para binário. Se o valor do pixel gray (a intensidade de cinza) for maior que o limiar (threshold), o pixel será branco (255); caso contrário, será preto (0). O valor do limiar pode ser ajustado para controlar a conversão.\n",
        "\n",
        "Depois processar todos os pixels, a imagem em tons de cinza é salva no caminho especificado (output_path_grayscale).\n",
        "\n",
        "\n",
        "\n",
        "---\n",
        "###Grayscale to binary\n",
        "\n",
        "The function takes three parameters:\n",
        "\n",
        "grayscale_image: the grayscale image to be converted.\n",
        "\n",
        "output_path_binary: the path where the binary image will be saved.\n",
        "\n",
        "threshold: a threshold value (default 128) used to decide whether a pixel will be white (255) or black (0).\n",
        "\n",
        "The code loops through each pixel of the grayscale image, where getpixel((x, y)) gets the grayscale value of the pixel at position (x, y).\n",
        "\n",
        "Then the conversion to binary is done. If the gray value of the pixel is greater than the threshold, the pixel will be white (255); otherwise, it will be black (0). The threshold value can be adjusted to control the conversion.\n",
        "\n",
        "After processing all the pixels, the grayscale image is saved in the specified path (output_path_grayscale).\n"
      ],
      "metadata": {
        "id": "zbSV4356lpea"
      }
    },
    {
      "cell_type": "code",
      "source": [
        "# Função para converter uma imagem em tons de cinza para uma imagem binária\n",
        "def grayscale_to_binary(grayscale_image, output_path_binary, threshold=128):\n",
        "    width, height = grayscale_image.size\n",
        "    binary_image = Image.new(\"1\", (width, height))  # Criar imagem binária (preto e branco)\n",
        "\n",
        "    for x in range(width):\n",
        "        for y in range(height):\n",
        "            gray = grayscale_image.getpixel((x, y))\n",
        "            # Verificar se está acima do limite\n",
        "            binary_color = 255 if gray > threshold else 0\n",
        "            binary_image.putpixel((x, y), binary_color)\n",
        "\n",
        "    # Salvar a imagem binária\n",
        "    binary_image.save(output_path_binary)\n",
        "    print(f\"Imagem convertida para binária: {output_path_binary}\")\n",
        "    return binary_image"
      ],
      "metadata": {
        "id": "soQ1GFdVlp4J"
      },
      "execution_count": null,
      "outputs": []
    },
    {
      "cell_type": "markdown",
      "source": [
        "A célula abaixo executa as funções.\n",
        "\n",
        "---\n",
        "The cell below run the functions.\n"
      ],
      "metadata": {
        "id": "fLu6rbmXlrAq"
      }
    },
    {
      "cell_type": "code",
      "source": [
        "# Caminho para a imagem original\n",
        "input_image_path = \"imagem_colorida.jpg\"\n",
        "# Saída para tons de cinza e binária\n",
        "output_grayscale_path = \"imagem_grayscale.jpg\"\n",
        "output_binary_path = \"imagem_binary.jpg\"\n",
        "\n",
        "# Executar as funções\n",
        "grayscale_img = color_to_grayscale(input_image_path, output_grayscale_path)\n",
        "binary_img = grayscale_to_binary(grayscale_img, output_binary_path)\n",
        "\n",
        "print(\"Conversões concluídas!\")"
      ],
      "metadata": {
        "id": "evqwY57Wlr--"
      },
      "execution_count": null,
      "outputs": []
    }
  ]
}