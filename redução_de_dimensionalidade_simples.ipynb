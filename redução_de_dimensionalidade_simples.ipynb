{
  "nbformat": 4,
  "nbformat_minor": 0,
  "metadata": {
    "colab": {
      "provenance": [],
      "authorship_tag": "ABX9TyMQrrebmPSxFmVqNTViukCR",
      "include_colab_link": true
    },
    "kernelspec": {
      "name": "python3",
      "display_name": "Python 3"
    },
    "language_info": {
      "name": "python"
    }
  },
  "cells": [
    {
      "cell_type": "markdown",
      "metadata": {
        "id": "view-in-github",
        "colab_type": "text"
      },
      "source": [
        "<a href=\"https://colab.research.google.com/github/BrunoBerval/dio_project2/blob/main/redu%C3%A7%C3%A3o_de_dimensionalidade_simples.ipynb\" target=\"_parent\"><img src=\"https://colab.research.google.com/assets/colab-badge.svg\" alt=\"Open In Colab\"/></a>"
      ]
    },
    {
      "cell_type": "markdown",
      "source": [
        "#Redução de Dimensionalidade em Imagens em formato simples (.bmp) sem importação de bibliotecas\n",
        "\n",
        "O processamento de imagens é uma etapa essencial em diversas aplicações de Machine Learning, como reconhecimento de padrões, visão computacional, e análise de dados visuais. No entanto, imagens coloridas possuem uma quantidade significativa de informações que nem sempre são relevantes para os modelos de aprendizado. Esse excesso de dimensionalidade pode aumentar o custo computacional e dificultar o aprendizado de padrões significativos pelos algoritmos.\n",
        "\n",
        "Para lidar com isso, o código apresentado realiza uma redução de dimensionalidade nos dados de imagem, como não estamos importando bibliotecas que lidam especificamente com imagens, o formato BMP é ideal para este caso porque oferece simplicidade, dados diretos e precisão, permitindo manipulação fácil dos pixels, sem precisar lidar com decodificação ou perdas de informação. Isso torna o BMP uma escolha prática para tarefas como conversões e pré-processamento de imagens para Machine Learning. Assim veremos como o código converte uma imagem colorida em duas versões simplificadas:\n",
        "\n",
        "Tons de cinza: Reduz os três canais de cor (RGB) para um único canal, mantendo a intensidade luminosa percebida pelo olho humano. Essa conversão é amplamente utilizada, pois a informação de cor raramente é crucial para a detecção de bordas, formas ou texturas, que são os principais aspectos extraídos em muitas tarefas de Machine Learning.\n",
        "\n",
        "Imagem binária (preto e branco): Reduz ainda mais a complexidade ao representar cada pixel com apenas dois valores possíveis (preto ou branco). Essa transformação é útil em cenários onde o contraste entre objetos e o fundo é o principal fator de interesse, como na segmentação de imagens e reconhecimento óptico de caracteres (OCR).\n",
        "\n",
        "Este código demonstra, de forma prática, como realizar essas transformações e salvar os resultados em arquivos BMP, facilitando a análise posterior e o uso em tarefas de aprendizado de máquina.\n",
        "\n",
        "\n",
        "\n",
        "---\n",
        "##Dimensionality Reduction in Images in simple format (.bmp) without importing libraries\n",
        "\n",
        "Image processing is an essential step in various Machine Learning applications, such as pattern recognition, computer vision, and visual data analysis. However, color images contain a significant amount of information that is not always relevant to learning models. This excess dimensionality can increase computational costs and make it harder for algorithms to learn meaningful patterns.\n",
        "\n",
        "To deal with this, the code presented performs a dimensionality reduction on the image data, as we are not importing libraries that deal specifically with images, the BMP format is ideal for this case because it offers simplicity, direct data and precision, allowing easy manipulation of pixels. , without having to deal with decoding or loss of information. This makes BMP a practical choice for tasks such as image conversions and preprocessing for Machine Learning. So we will see how the code converts a colored image into two simplified versions:\n",
        "\n",
        "Grayscale: Reduces the three color channels (RGB) to a single channel, preserving the luminance intensity perceived by the human eye. This conversion is widely used because color information is rarely crucial for detecting edges, shapes, or textures, which are the primary features extracted in many Machine Learning tasks.\n",
        "\n",
        "Binary image (black and white): Further reduces complexity by representing each pixel with only two possible values (black or white). This transformation is useful in scenarios where the contrast between objects and the background is the main focus, such as in image segmentation and optical character recognition (OCR).\n",
        "\n",
        "This code demonstrates, in a practical way, how to perform these transformations and save the results as BMP files, facilitating subsequent analysis and use in machine learning tasks.\n"
      ],
      "metadata": {
        "id": "sJUi4HEjjy5A"
      }
    },
    {
      "cell_type": "markdown",
      "source": [
        "###Obter as informações principais de uma imagem BMP e os dados de seus pixels.\n",
        "\n",
        "Abertura do arquivo: O arquivo BMP é aberto em modo binário ('rb').\n",
        "\n",
        "Leitura do cabeçalho: Os primeiros 54 bytes do arquivo (cabeçalho BMP) são lidos, o que contém informações sobre o formato da imagem.\n",
        "\n",
        "Extração da largura e altura: A largura e a altura da imagem são extraídas dos bytes específicos do cabeçalho (localizados nas posições 18-21 para a largura e 22-25 para a altura), usando a função int.from_bytes para converter de bytes para um número inteiro em formato little-endian.\n",
        "\n",
        "Leitura dos dados dos pixels: Os dados dos pixels são lidos após o cabeçalho, armazenando todas as informações da imagem.\n",
        "\n",
        "Retorno: A função retorna o cabeçalho, a largura, a altura e os dados dos pixels.\n",
        "\n",
        "\n",
        "\n",
        "---\n",
        "###Get the main information of a BMP image and its pixel data.\n",
        "\n",
        "File opening: The BMP file is opened in binary mode ('rb').\n",
        "\n",
        "Header reading: The first 54 bytes of the file (BMP header) are read, which contains information about the image format.\n",
        "\n",
        "Width and Height Extraction: The width and height of the image are extracted from the header-specific bytes (located at positions 18-21 for the width and 22-25 for the height), using the int.from_bytes function to convert from bytes to an integer in little-endian format.\n",
        "\n",
        "Reading pixel data: Pixel data is read after the title, storing all image information.\n",
        "\n",
        "Return: The function returns the header, width, height and pixel data.\n",
        "\n",
        "\n",
        "\n",
        "\n",
        "\n",
        "\n"
      ],
      "metadata": {
        "id": "dbiX8Vgw1YRf"
      }
    },
    {
      "cell_type": "code",
      "execution_count": 1,
      "metadata": {
        "id": "T9IN0fMqdnnj"
      },
      "outputs": [],
      "source": [
        "def read_bmp(file_path):\n",
        "    with open(file_path, 'rb') as f:\n",
        "        # Ler cabeçalho BMP (54 bytes)\n",
        "        header = f.read(54)\n",
        "\n",
        "        # Largura e altura da imagem (4 bytes cada, little-endian)\n",
        "        width = int.from_bytes(header[18:22], 'little')\n",
        "        height = int.from_bytes(header[22:26], 'little')\n",
        "\n",
        "        # Ler os dados dos pixels\n",
        "        data = f.read()\n",
        "    return header, width, height, data"
      ]
    },
    {
      "cell_type": "markdown",
      "source": [
        "###RGB para Tons de cinza\n",
        "\n",
        "A função rgb_to_grayscale converte uma imagem RGB para tons de cinza. Ela faz isso da seguinte forma:\n",
        "\n",
        "Iteração pelos pixels: Percorre os dados da imagem, processando a cada 3 bytes (representando um pixel com canais R, G e B).\n",
        "Cálculo do tom de cinza: Usa a fórmula de conversão para tons de cinza (pesos de 0.299 para R, 0.587 para G e 0.114 para B) para calcular o valor de cinza de cada pixel.\n",
        "Criação da imagem em tons de cinza: Para cada pixel, o valor de cinza é usado para preencher os canais R, G e B, criando uma imagem monocromática.\n",
        "Retorno: A função retorna os dados da imagem convertida para tons de cinza.\n",
        "\n",
        "---\n",
        "###RGB to Grayscale\n",
        "\n",
        "\n",
        "The rgb_to_grayscale function converts an RGB image to grayscale. She does this as follows:\n",
        "\n",
        "Iteration through pixels: Cycles through the image data, processing every 3 bytes (representing a pixel with R, G and B channels).\n",
        "Grayscale calculation: Uses the grayscale conversion formula (weights of 0.299 for R, 0.587 for G, and 0.114 for B) to calculate the gray value of each pixel.\n",
        "Grayscale image creation: For each pixel, the gray value is used to fill the R, G, and B channels, creating a monochromatic image.\n",
        "Return: The function returns the image data converted to grayscale."
      ],
      "metadata": {
        "id": "2GgoavJnjxeI"
      }
    },
    {
      "cell_type": "code",
      "source": [
        "def rgb_to_grayscale(data):\n",
        "    grayscale_data = bytearray()\n",
        "    for i in range(0, len(data), 3):\n",
        "        # Cada pixel tem 3 bytes: B, G, R\n",
        "        b, g, r = data[i], data[i+1], data[i+2]\n",
        "        # Fórmula para tons de cinza\n",
        "        gray = int(0.299 * r + 0.587 * g + 0.114 * b)\n",
        "        # Adicionar o mesmo valor para B, G e R (tons de cinza)\n",
        "        grayscale_data.extend([gray, gray, gray])\n",
        "    return grayscale_data"
      ],
      "metadata": {
        "id": "Lk0QlsBdj4Bv"
      },
      "execution_count": 2,
      "outputs": []
    },
    {
      "cell_type": "markdown",
      "source": [
        "###Tons de cinza para binário\n",
        "\n",
        "A função grayscale_to_binary converte uma imagem em tons de cinza para uma imagem binária (preto e branco).\n",
        "\n",
        "Entrada de dados: A função recebe os dados de uma imagem em tons de cinza e um valor de limiar (threshold), com valor padrão 128.\n",
        "Iteração pelos pixels: Ela percorre os dados a cada 3 bytes, verificando o valor de cinza de cada pixel.\n",
        "Aplicação do limiar: Se o valor de cinza for maior que o limiar, o pixel é convertido para branco (255); caso contrário, para preto (0).\n",
        "Construção da imagem binária: O valor de preto ou branco é atribuído aos três canais (R, G, B) de cada pixel.\n",
        "\n",
        "Retorno: A função retorna os dados da imagem convertida para binário.\n",
        "A imagem resultante terá apenas pixels pretos ou brancos, dependendo do limiar.\n",
        "\n",
        "---\n",
        "###Grayscale to binary\n",
        "\n",
        "The grayscale_to_binary function converts a grayscale image to a binary (black and white) image.\n",
        "\n",
        "Data input: The function receives data from an image in grayscale and a threshold value, with a default value of 128.\n",
        "Iteration through pixels: It goes through the data every 3 bytes, checking the gray value of each pixel.\n",
        "Threshold application: If the gray value is greater than the threshold, the pixel is converted to white (255); otherwise to black (0).\n",
        "Construction of the binary image: The black or white value is assigned to the three channels (R, G, B) of each pixel.\n",
        "\n",
        "Return: The function returns the image data converted to binary.\n",
        "The resulting image will have only black or white pixels, depending on the threshold."
      ],
      "metadata": {
        "id": "pjKdzyfgj4nN"
      }
    },
    {
      "cell_type": "code",
      "source": [
        "def grayscale_to_binary(data, threshold=128):\n",
        "    binary_data = bytearray()\n",
        "    for i in range(0, len(data), 3):\n",
        "        # Apenas verificar um canal (R, G ou B, pois todos são iguais em tons de cinza)\n",
        "        gray = data[i]\n",
        "        # Limiar: preto ou branco\n",
        "        value = 255 if gray > threshold else 0\n",
        "        binary_data.extend([value, value, value])\n",
        "    return binary_data"
      ],
      "metadata": {
        "id": "gpzwgZFMj5ld"
      },
      "execution_count": 3,
      "outputs": []
    },
    {
      "cell_type": "markdown",
      "source": [
        "Função para salvar as imagens processadas.\n",
        "\n",
        "\n",
        "\n",
        "---\n",
        "Function to save processed images.\n"
      ],
      "metadata": {
        "id": "m17OblujkA6h"
      }
    },
    {
      "cell_type": "code",
      "source": [
        "def save_bmp(file_path, header, data):\n",
        "    with open(file_path, 'wb') as f:\n",
        "        f.write(header)\n",
        "        f.write(data)"
      ],
      "metadata": {
        "id": "JZ5HqI1ukBh7"
      },
      "execution_count": 4,
      "outputs": []
    },
    {
      "cell_type": "markdown",
      "source": [
        "A célula de código abaixo executa as funções.\n",
        "\n",
        "\n",
        "\n",
        "---\n",
        "\n",
        "The code cell below run the functions."
      ],
      "metadata": {
        "id": "RLXRdzPNkZi1"
      }
    },
    {
      "cell_type": "code",
      "source": [
        "# Caminhos para os arquivos\n",
        "input_path = 'AyrtonSenna.bmp'\n",
        "output_grayscale_path = 'AyrtonSenna_grayscale.bmp'\n",
        "output_binary_path = 'AyrtonSenna_binary.bmp'\n",
        "\n",
        "# Ler a imagem BMP\n",
        "header, width, height, data = read_bmp(input_path)\n",
        "\n",
        "# Converter para tons de cinza\n",
        "grayscale_data = rgb_to_grayscale(data)\n",
        "save_bmp(output_grayscale_path, header, grayscale_data)\n",
        "\n",
        "# Converter para binário (preto e branco)\n",
        "binary_data = grayscale_to_binary(grayscale_data)\n",
        "save_bmp(output_binary_path, header, binary_data)\n",
        "\n",
        "print(\"Conversões concluídas!\")"
      ],
      "metadata": {
        "colab": {
          "base_uri": "https://localhost:8080/"
        },
        "id": "NtGbwA9TkaBg",
        "outputId": "d0783258-7a9c-41a2-f10d-ada0a1310c43"
      },
      "execution_count": 5,
      "outputs": [
        {
          "output_type": "stream",
          "name": "stdout",
          "text": [
            "Conversões concluídas!\n"
          ]
        }
      ]
    }
  ]
}